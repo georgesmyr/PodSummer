{
 "cells": [
  {
   "cell_type": "markdown",
   "metadata": {},
   "source": [
    "# Media"
   ]
  },
  {
   "cell_type": "markdown",
   "metadata": {},
   "source": [
    "## Podcasts"
   ]
  },
  {
   "cell_type": "code",
   "execution_count": 5,
   "metadata": {},
   "outputs": [
    {
     "ename": "ImportError",
     "evalue": "attempted relative import with no known parent package",
     "output_type": "error",
     "traceback": [
      "\u001b[0;31m---------------------------------------------------------------------------\u001b[0m",
      "\u001b[0;31mImportError\u001b[0m                               Traceback (most recent call last)",
      "\u001b[1;32m/Users/georgesmyridis/Desktop/Projects/PodSummer/demo.ipynb Cell 3\u001b[0m line \u001b[0;36m1\n\u001b[0;32m----> <a href='vscode-notebook-cell:/Users/georgesmyridis/Desktop/Projects/PodSummer/demo.ipynb#W2sZmlsZQ%3D%3D?line=0'>1</a>\u001b[0m \u001b[39mfrom\u001b[39;00m \u001b[39m.\u001b[39;00m \u001b[39mimport\u001b[39;00m utils\n\u001b[1;32m      <a href='vscode-notebook-cell:/Users/georgesmyridis/Desktop/Projects/PodSummer/demo.ipynb#W2sZmlsZQ%3D%3D?line=1'>2</a>\u001b[0m \u001b[39mfrom\u001b[39;00m \u001b[39mpathlib\u001b[39;00m \u001b[39mimport\u001b[39;00m Path\n\u001b[1;32m      <a href='vscode-notebook-cell:/Users/georgesmyridis/Desktop/Projects/PodSummer/demo.ipynb#W2sZmlsZQ%3D%3D?line=2'>3</a>\u001b[0m \u001b[39mimport\u001b[39;00m \u001b[39mfeedparser\u001b[39;00m\n",
      "\u001b[0;31mImportError\u001b[0m: attempted relative import with no known parent package"
     ]
    }
   ],
   "source": [
    "from . import utils\n",
    "from pathlib import Path\n",
    "import feedparser\n",
    "\n",
    "class Podcast:\n",
    "    \"\"\" Class that holds the podcast feed and its metadata \"\"\"\n",
    "    def __init__(self, url):\n",
    "        self.feed = feedparser.parse(url)\n",
    "        # Podcast Information\n",
    "        self.title = self.feed.feed.title\n",
    "        self.image = self.feed.feed.image.href\n",
    "        try:\n",
    "            self.subtitle = self.feed.feed.subtitle\n",
    "        except:\n",
    "            print(\"No subtitle found\")\n",
    "        # Last Episode\n",
    "        self.episode = Episode(self.title, self.feed.entries[0])\n",
    "\n",
    "\n",
    "    def __repr__(self):\n",
    "        \"\"\" Representation of Podcast Object \"\"\"\n",
    "        return f\"\"\"Podcast[Podcast={self.title},\n",
    "                    Episode={self.episode.title}]\"\"\"\n",
    "\n",
    "\n",
    "class Episode:\n",
    "    \"\"\" Class that holds episode information \"\"\"\n",
    "    def __init__(self, podcast_title, episode_feed):\n",
    "        self.podcast = podcast_title\n",
    "        # Episode Information\n",
    "        self.title = episode_feed.title\n",
    "        for link in episode_feed.links:\n",
    "            if link['type'] == 'audio/mpeg':\n",
    "                self.url = link.href\n",
    "        # Save files paths\n",
    "        self.file_paths = self.setup_paths()\n",
    "\n",
    "\n",
    "    def setup_paths(self):\n",
    "        \"\"\" Sets up the file pats for the episode \"\"\"\n",
    "        paths = {}\n",
    "        # Files' names\n",
    "        AUDIO_FILE_NAME = \"audio.mp3\"\n",
    "        TRANSCRIPT_FILE_NAME = \"transcript.json\"\n",
    "        SUMMARY_FILE_NAME = \"summary.txt\"\n",
    "        HIGHLIGHTS_FILE_NAME = \"highlights.txt\"\n",
    "        # Setup content folder\n",
    "        CONTENT_DIRECTORY = Path(\"podcasts\")\n",
    "        CONTENT_DIRECTORY.mkdir(exist_ok=True)\n",
    "        # Setup podcast folder\n",
    "        podcast_folder_name = utils.to_filename(self.podcast)\n",
    "        podcast_directory = CONTENT_DIRECTORY.joinpath(podcast_folder_name)\n",
    "        podcast_directory.mkdir(exist_ok=True)\n",
    "        # Setup episode folder\n",
    "        episode_directory = podcast_directory.joinpath(f\"episode_{0}\")\n",
    "        episode_directory.mkdir(exist_ok=True)\n",
    "        # Determin audio, transcript, summary and highlights path\n",
    "        paths['audio'] = episode_directory.joinpath(AUDIO_FILE_NAME)\n",
    "        paths['transcript']= episode_directory.joinpath(TRANSCRIPT_FILE_NAME)\n",
    "        paths['summary'] = episode_directory.joinpath(SUMMARY_FILE_NAME)\n",
    "        paths['highlights'] = episode_directory.joinpath(HIGHLIGHTS_FILE_NAME)\n",
    "\n",
    "        return paths\n",
    "\n",
    "\n",
    "    def download(self):\n",
    "        \"\"\" Downloads the episode audio \"\"\"\n",
    "        # Check file type before downloading\n",
    "        utils.download_audio(self.url, audio_path=self.file_paths['audio'])\n",
    "\n",
    "\n",
    "    def __repr__(self):\n",
    "        \"\"\" Representation of Episode Object \"\"\"\n",
    "        return f\"\"\"Episode[Podcast={self.podcast},\n",
    "                    Episode={self.title}]\"\"\""
   ]
  },
  {
   "cell_type": "markdown",
   "metadata": {},
   "source": [
    "# AudioDownloaders"
   ]
  },
  {
   "cell_type": "markdown",
   "metadata": {},
   "source": [
    "## Audio Downloaders Utilities"
   ]
  },
  {
   "cell_type": "code",
   "execution_count": null,
   "metadata": {},
   "outputs": [],
   "source": [
    "from pytube.query import StreamQuery\n",
    "from pytube import Stream\n",
    "\n"
   ]
  },
  {
   "cell_type": "markdown",
   "metadata": {},
   "source": [
    "## Audio Downloaders"
   ]
  },
  {
   "cell_type": "code",
   "execution_count": null,
   "metadata": {},
   "outputs": [],
   "source": [
    "from abc import ABC, abstractmethod\n",
    "\n",
    "class BaseAudioDownloader(ABC):\n",
    "    \"\"\" Base class for audio downloaders \"\"\"\n",
    "    pass\n",
    "\n",
    "class YouTubeAudioDownloader(BaseAudioDownloader):\n",
    "    \"\"\" YouTube audio downloader class \"\"\"\n",
    "\n",
    "    def __init__(self, account_name: str = None, password: str = None) -> None:\n",
    "        \"\"\" YouTube audio downloader class constructor \"\"\"\n",
    "        self.set_auth_credentials(account_name, password)\n",
    "\n",
    "    def set_auth_credentials(self, account_name: str, password: str) -> None:\n",
    "        \"\"\" Set authentication credentials \"\"\"\n",
    "        self.account_name = account_name\n",
    "        self.password = password\n",
    "\n",
    "    @staticmethod\n",
    "    def get_highest_abr_audio_stream(streams : StreamQuery) -> Stream:\n",
    "        \"\"\" Returns the highest abr audio stream \"\"\"\n",
    "        return streams.filter(only_audio=True).order_by('abr').desc().first()\n",
    "\n",
    "    def download(self, youtube : YouTubeVideo) -> None:\n",
    "        \"\"\" Download audio from YouTube video \"\"\"\n",
    "        streams = youtube.feed.streams.filter(only_audio=True)\n",
    "        stream = self.get_highest_abr_audio_stream(streams)\n",
    "        \n",
    "\n",
    "        \n"
   ]
  },
  {
   "cell_type": "code",
   "execution_count": null,
   "metadata": {},
   "outputs": [],
   "source": [
    "ytad = YouTubeAudioDownloader(account_name='user', password='pass')"
   ]
  },
  {
   "cell_type": "code",
   "execution_count": null,
   "metadata": {},
   "outputs": [],
   "source": [
    "yt = pytube.YouTube('https://www.youtube.com/watch?v=CvQ7e6yUtnw')"
   ]
  },
  {
   "cell_type": "code",
   "execution_count": null,
   "metadata": {},
   "outputs": [
    {
     "data": {
      "text/plain": [
       "<Stream: itag=\"251\" mime_type=\"audio/webm\" abr=\"160kbps\" acodec=\"opus\" progressive=\"False\" type=\"audio\">"
      ]
     },
     "execution_count": 115,
     "metadata": {},
     "output_type": "execute_result"
    }
   ],
   "source": [
    "YouTubeAudioDownloader.get_highest_abr_audio_stream(yt.feed.streams)"
   ]
  },
  {
   "cell_type": "markdown",
   "metadata": {},
   "source": [
    "# Metadata Managers"
   ]
  },
  {
   "cell_type": "markdown",
   "metadata": {},
   "source": [
    "### Imports and constants"
   ]
  },
  {
   "cell_type": "code",
   "execution_count": 6,
   "metadata": {},
   "outputs": [],
   "source": [
    "from abc import ABC, abstractmethod\n",
    "import json\n",
    "\n",
    "IMAGE_URL = \"image_url\"\n",
    "CREATORS = \"creators\"\n",
    "CHANNEL_NAME = \"channel_name\"\n",
    "TITLE = \"title\"\n",
    "SUMMARY = \"summary\"\n",
    "DOWNLOAD_URL= \"download_url\""
   ]
  },
  {
   "cell_type": "markdown",
   "metadata": {},
   "source": [
    "### Base Metadata Manager"
   ]
  },
  {
   "cell_type": "code",
   "execution_count": 7,
   "metadata": {},
   "outputs": [],
   "source": [
    "class BaseMetadataManager(ABC):\n",
    "    \"\"\" Base class for metadata managers \"\"\"\n",
    "\n",
    "    @staticmethod\n",
    "    @abstractmethod\n",
    "    def fetch_metadata(feed, entry):\n",
    "        \"\"\" Fetches metadata from the source. For example title, author, etc \"\"\"\n",
    "        ...\n",
    "\n",
    "    @staticmethod\n",
    "    @abstractmethod\n",
    "    def fetch_store_paths():\n",
    "        \"\"\" Fetches store paths for podcast metadata \"\"\"\n",
    "        ..."
   ]
  },
  {
   "cell_type": "markdown",
   "metadata": {},
   "source": [
    "#### RSS Podcast Metadata Manager"
   ]
  },
  {
   "cell_type": "code",
   "execution_count": 8,
   "metadata": {},
   "outputs": [],
   "source": [
    "\n",
    "class PodcastMetadataManager(BaseMetadataManager):\n",
    "    \"\"\"  \"\"\"\n",
    "    @staticmethod\n",
    "    def _fetch_podcast_metadata(feed: json) -> dict:\n",
    "        \"\"\" Fetches podcast metadata from RSS feed \"\"\"\n",
    "        if feed is None:\n",
    "            raise ValueError(\"Podcast feed is None\")\n",
    "        return {CHANNEL_NAME: feed.title,\n",
    "                IMAGE_URL: feed.image.href,\n",
    "                CREATORS: [author.name for author in feed.authors]}\n",
    "\n",
    "    @staticmethod\n",
    "    def _fetch_episode_metadata(entry: json) -> dict:\n",
    "        \"\"\" Fetches episode metadata from entry \"\"\"\n",
    "        if entry is None:\n",
    "            raise ValueError(\"Episode entry is None\")\n",
    "        return {TITLE: entry.title,\n",
    "                DOWNLOAD_URL: [link.href for link in entry.links if link.type == 'audio/mpeg'][0]}\n",
    "\n",
    "    @staticmethod\n",
    "    def fetch_metadata(feed: json, entry: json) -> dict:\n",
    "        \"\"\" Fetches metadata from the source. For example title, author, etc \"\"\"\n",
    "        return {**PodcastMetadataManager._fetch_podcast_metadata(feed),\n",
    "                **PodcastMetadataManager._fetch_episode_metadata(entry)}\n",
    "    \n",
    "    @staticmethod\n",
    "    def fetch_store_paths():\n",
    "        \"\"\" Fetches store paths for podcast metadata \"\"\"\n",
    "        pass"
   ]
  },
  {
   "cell_type": "markdown",
   "metadata": {},
   "source": [
    "### Youtube Metadata Manager"
   ]
  },
  {
   "cell_type": "code",
   "execution_count": 9,
   "metadata": {},
   "outputs": [],
   "source": [
    "from pytube import YouTube\n",
    "\n",
    "class YouTubeVideoMetadataManager(BaseMetadataManager):\n",
    "    \"\"\" Youtube video metadata manager \"\"\" \n",
    "    @staticmethod\n",
    "    def fetch_metadata(feed: YouTube) -> json:\n",
    "        \"\"\" Fetches metadata from the source. For example title, author, etc \"\"\"\n",
    "        return {CHANNEL_NAME: feed.author,\n",
    "                IMAGE_URL: feed.thumbnail_url,\n",
    "                CREATORS: [feed.author],\n",
    "                TITLE: feed.title,\n",
    "                DOWNLOAD_URL: feed.streams.filter(only_audio=True).order_by('abr').desc().first().url}\n",
    "    \n",
    "    @staticmethod\n",
    "    def fetch_store_paths():\n",
    "        \"\"\" Fetches store paths for podcast metadata \"\"\"\n",
    "        pass\n",
    "        "
   ]
  },
  {
   "cell_type": "markdown",
   "metadata": {},
   "source": [
    "# Media Sources"
   ]
  },
  {
   "cell_type": "markdown",
   "metadata": {},
   "source": [
    "#### Imports"
   ]
  },
  {
   "cell_type": "code",
   "execution_count": 10,
   "metadata": {},
   "outputs": [
    {
     "name": "stderr",
     "output_type": "stream",
     "text": [
      "/Users/georgesmyridis/opt/anaconda3/envs/PodSummer/lib/python3.10/site-packages/fuzzywuzzy/fuzz.py:11: UserWarning: Using slow pure-python SequenceMatcher. Install python-Levenshtein to remove this warning\n",
      "  warnings.warn('Using slow pure-python SequenceMatcher. Install python-Levenshtein to remove this warning')\n"
     ]
    }
   ],
   "source": [
    "from abc import ABC, abstractmethod\n",
    "\n",
    "import pytube\n",
    "import feedparser\n",
    "import json\n",
    "\n",
    "from fuzzywuzzy import fuzz"
   ]
  },
  {
   "cell_type": "markdown",
   "metadata": {},
   "source": [
    "### Base Media Source"
   ]
  },
  {
   "cell_type": "code",
   "execution_count": 11,
   "metadata": {},
   "outputs": [],
   "source": [
    "class MediaSource(ABC):\n",
    "    \"\"\" Base class for media sources \"\"\"\n",
    "    @abstractmethod\n",
    "    def fetch_metadata(self):\n",
    "        \"\"\" Fetches metadata from the source. For example title, author, etc \"\"\"\n",
    "        pass"
   ]
  },
  {
   "cell_type": "markdown",
   "metadata": {},
   "source": [
    "### Podcast from RSS Source"
   ]
  },
  {
   "cell_type": "code",
   "execution_count": 12,
   "metadata": {},
   "outputs": [],
   "source": [
    "class RSSSource(MediaSource):\n",
    "    \n",
    "    def __init__(self, url : str, episode_title: str = None) -> None:\n",
    "        self.url = url\n",
    "        self._feed = feedparser.parse(self.url)\n",
    "        self.channel_name, self.title = self._feed.feed.title, None\n",
    "        self._episode = None\n",
    "        if episode_title:\n",
    "            self._episode = self.find_entry_from_title(episode_title)\n",
    "            self.fetch_metadata()\n",
    "\n",
    "    def list_episodes(self):\n",
    "        for entry in self._feed.entries:\n",
    "            print(\"Title:\", entry.title)\n",
    "\n",
    "    def find_entry_from_title(self, title : str, similarity_threshold: float = 80) -> json:\n",
    "        \"\"\" \n",
    "        Returns the entry with the highest similarity score\n",
    "        over the similarity threshold.\n",
    "        \"\"\"\n",
    "        title_list = [entry.title for entry in self._feed.entries]\n",
    "        similarity_scores = []\n",
    "        for t in title_list:\n",
    "            similarity_scores.append(fuzz.ratio(title, t))\n",
    "        max_score = max(similarity_scores)\n",
    "        max_index = similarity_scores.index(max_score)\n",
    "        return self._feed.entries[max_index]\n",
    "\n",
    "    def fetch_metadata(self):\n",
    "        \"\"\" Fetches podcast metadata from RSS feed \"\"\"\n",
    "        # if self._episode is None:\n",
    "        #     raise ValueError(\"No episode selected\")\n",
    "        metadata = PodcastMetadataManager.fetch_metadata(self._feed.feed, self._episode)\n",
    "        for key, value in metadata.items():\n",
    "            setattr(self, key, value)\n",
    "\n",
    "    def __repr__(self):\n",
    "        \"\"\" Representation of Podcast Object \"\"\"\n",
    "        return f\"\"\"Podcast[Podcast = {self.channel_name}, Episode = {self.title}]\"\"\""
   ]
  },
  {
   "cell_type": "markdown",
   "metadata": {},
   "source": [
    "### YouTube Video Source"
   ]
  },
  {
   "cell_type": "code",
   "execution_count": 13,
   "metadata": {},
   "outputs": [],
   "source": [
    "class YouTubeVideoSource(MediaSource):\n",
    "    \"\"\" YouTube video source class \"\"\"\n",
    "    def __init__(self, url : str) -> None:\n",
    "        super().__init__()\n",
    "        self.url = url\n",
    "        self._feed = pytube.YouTube(self.url)\n",
    "\n",
    "    def fetch_metadata(self) -> None:\n",
    "        \"\"\" Fetches YouTube video metadata \"\"\"\n",
    "        metadata = YouTubeVideoMetadataManager.fetch_metadata(self._feed)\n",
    "        for key, value in metadata.items():\n",
    "            setattr(self, key, value)"
   ]
  },
  {
   "cell_type": "markdown",
   "metadata": {},
   "source": [
    "### Source Factory"
   ]
  },
  {
   "cell_type": "code",
   "execution_count": 14,
   "metadata": {},
   "outputs": [],
   "source": [
    "class SourceFactory:\n",
    "    @staticmethod\n",
    "    def create_source(source_type: str, url: str, episode_title: str = None) -> MediaSource:\n",
    "        if source_type == \"rss\":\n",
    "            return RSSSource(url, episode_title)\n",
    "        elif source_type == \"youtube\":\n",
    "            return YouTubeVideoSource(url)"
   ]
  },
  {
   "cell_type": "markdown",
   "metadata": {},
   "source": [
    "# Tests"
   ]
  },
  {
   "cell_type": "code",
   "execution_count": 17,
   "metadata": {},
   "outputs": [
    {
     "name": "stdout",
     "output_type": "stream",
     "text": [
      "url: https://lexfridman.com/feed/podcast/\n",
      "channel_name: Lex Fridman Podcast\n",
      "title: #401 – John Mearsheimer: Israel-Palestine, Russia-Ukraine, China, NATO, and WW3\n",
      "image_url: https://lexfridman.com/wordpress/wp-content/uploads/powerpress/artwork_3000-230.png\n",
      "creators: ['Lex Fridman']\n",
      "download_url: https://media.blubrry.com/takeituneasy/content.blubrry.com/takeituneasy/lex_ai_john_mearsheimer.mp3\n",
      "Podcast[Podcast = Lex Fridman Podcast, Episode = #401 – John Mearsheimer: Israel-Palestine, Russia-Ukraine, China, NATO, and WW3]\n"
     ]
    }
   ],
   "source": [
    "rss = SourceFactory.create_source('rss', 'https://lexfridman.com/feed/podcast/', 'John Mearsheimer: Israel-Palestine, Russia-Ukraine, China, NATO, and WW3')\n",
    "rss.fetch_metadata()\n",
    "\n",
    "for key, value in rss.__dict__.items():\n",
    "    if not key.startswith('_'):\n",
    "        print(f\"{key}:\", value)\n",
    "\n",
    "print(rss)"
   ]
  },
  {
   "cell_type": "code",
   "execution_count": null,
   "metadata": {},
   "outputs": [
    {
     "name": "stdout",
     "output_type": "stream",
     "text": [
      "url: https://www.youtube.com/watch?v=CvQ7e6yUtnw\n",
      "channel_name: ArjanCodes\n",
      "image_url: https://i.ytimg.com/vi/CvQ7e6yUtnw/hq720.jpg\n",
      "creators: ['ArjanCodes']\n",
      "title: This Is Why Python Data Classes Are Awesome\n",
      "download_url: https://rr2---sn-uhvcpaxoa-5hne.googlevideo.com/videoplayback?expire=1700702774&ei=1lVeZbHNL8C_6dsPoeCKyAw&ip=94.157.1.0&id=o-AIZefq_J3RAfLGp-Bm6IB3d6g2k_04RxZ9treyg5OZJD&itag=251&source=youtube&requiressl=yes&mh=Gm&mm=31%2C29&mn=sn-uhvcpaxoa-5hne%2Csn-5hne6nzk&ms=au%2Crdu&mv=m&mvi=2&pl=23&initcwndbps=2355000&vprv=1&mime=audio%2Fwebm&gir=yes&clen=18946649&dur=1338.941&lmt=1651195320148263&mt=1700680857&fvip=5&keepalive=yes&fexp=24007246&c=ANDROID_EMBEDDED_PLAYER&txp=4432434&sparams=expire%2Cei%2Cip%2Cid%2Citag%2Csource%2Crequiressl%2Cvprv%2Cmime%2Cgir%2Cclen%2Cdur%2Clmt&sig=ANLwegAwRAIgUu7upxWOiqaKsZHaID9sR9jxse87ZmTmvB5T4qo3-ocCIB2kG_GidSOfk_PJqogT5QaI88JuoDhvdeI_MfDE0CBi&lsparams=mh%2Cmm%2Cmn%2Cms%2Cmv%2Cmvi%2Cpl%2Cinitcwndbps&lsig=AM8Gb2swRAIgdz_pR5sRQQi_HBPem3LFJ5EipUNfzFMA07VsKk1GyPoCIDDr0tIXWZcfwTxAQZ2VbBZBNy3A25Yxpiwoh-7a-ndo\n"
     ]
    }
   ],
   "source": [
    "ytv = SourceFactory.create_source('youtube', 'https://www.youtube.com/watch?v=CvQ7e6yUtnw')\n",
    "ytv.fetch_metadata()\n",
    "for key, value in ytv.__dict__.items():\n",
    "    if not key.startswith('_'):\n",
    "        print(f\"{key}:\", value)"
   ]
  }
 ],
 "metadata": {
  "kernelspec": {
   "display_name": "PodSummer",
   "language": "python",
   "name": "python3"
  },
  "language_info": {
   "codemirror_mode": {
    "name": "ipython",
    "version": 3
   },
   "file_extension": ".py",
   "mimetype": "text/x-python",
   "name": "python",
   "nbconvert_exporter": "python",
   "pygments_lexer": "ipython3",
   "version": "3.10.12"
  }
 },
 "nbformat": 4,
 "nbformat_minor": 2
}

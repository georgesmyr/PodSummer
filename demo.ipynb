{
 "cells": [
  {
   "cell_type": "markdown",
   "metadata": {},
   "source": [
    "# Metadata Managers"
   ]
  },
  {
   "cell_type": "markdown",
   "metadata": {},
   "source": [
    "### Imports and constants"
   ]
  },
  {
   "cell_type": "code",
   "execution_count": 217,
   "metadata": {},
   "outputs": [],
   "source": [
    "from abc import ABC, abstractmethod\n",
    "import json\n",
    "\n",
    "IMAGE_URL = \"image_url\"\n",
    "CREATORS = \"creators\"\n",
    "CHANNEL_NAME = \"channel_name\"\n",
    "TITLE = \"title\"\n",
    "SUMMARY = \"summary\"\n",
    "AUDIO_URL= \"audio_url\""
   ]
  },
  {
   "cell_type": "markdown",
   "metadata": {},
   "source": [
    "### Base Metadata Manager"
   ]
  },
  {
   "cell_type": "code",
   "execution_count": 218,
   "metadata": {},
   "outputs": [],
   "source": [
    "CONTENT_DIRECTORY_NAME = \"content\"\n",
    "AUDIO_FILE_NAME = \"audio.mp3\"\n",
    "TRANSCRIPT_FILE_NAME = \"transcript.json\"\n",
    "SUMMARY_FILE_NAME = \"summary.txt\"\n",
    "\n",
    "class BaseMetadataManager(ABC):\n",
    "    \"\"\" Base class for metadata managers \"\"\"\n",
    "\n",
    "    @abstractmethod\n",
    "    def fetch_metadata(feed, entry):\n",
    "        \"\"\" Fetches metadata from the source. For example title, author, etc \"\"\"\n",
    "        pass\n"
   ]
  },
  {
   "cell_type": "markdown",
   "metadata": {},
   "source": [
    "#### RSS Podcast Metadata Manager"
   ]
  },
  {
   "cell_type": "code",
   "execution_count": 219,
   "metadata": {},
   "outputs": [],
   "source": [
    "from pathlib import Path\n",
    "import utils\n",
    "\n",
    "class PodcastMetadataManager(BaseMetadataManager):\n",
    "    \"\"\"  \"\"\"\n",
    "    def __init__(self, feed: json, entry: json) -> None:\n",
    "        \"\"\" Initialises PodcastMetadataManager \"\"\"\n",
    "        self.feed = feed\n",
    "        self.entry = entry\n",
    "\n",
    "    def _fetch_podcast_metadata(self) -> dict:\n",
    "        \"\"\" Fetches podcast metadata from RSS feed \"\"\"\n",
    "        if self.feed is None:\n",
    "            raise ValueError(\"Podcast feed is None\")\n",
    "        return {CHANNEL_NAME: self.feed.title,\n",
    "                IMAGE_URL: self.feed.image.href,\n",
    "                CREATORS: [author.name for author in self.feed.authors]}\n",
    "\n",
    "    def _fetch_episode_metadata(self) -> dict:\n",
    "        \"\"\" Fetches episode metadata from entry \"\"\"\n",
    "        if self.entry is None:\n",
    "            raise ValueError(\"Episode entry is None\")\n",
    "        return {TITLE: self.entry.title,\n",
    "                AUDIO_URL: [link.href for link in self.entry.links if link.type == 'audio/mpeg'][0]}\n",
    "    \n",
    "    def _fetch_store_paths(self) -> dict:\n",
    "        \"\"\" Fetches store paths for podcast metadata \"\"\"\n",
    "        CONTENT_DIRECTORY = Path(CONTENT_DIRECTORY_NAME)\n",
    "        CONTENT_DIRECTORY.mkdir(exist_ok=True)\n",
    "        # Setup channel directory\n",
    "        channel_dir_name = utils.to_filename(self.feed.title)\n",
    "        channel_dir = CONTENT_DIRECTORY.joinpath(channel_dir_name)\n",
    "        channel_dir.mkdir(exist_ok=True)\n",
    "        # Setup channel directory\n",
    "        media_source_dir_name = utils.to_filename(self.entry.title)\n",
    "        media_source_dir = channel_dir.joinpath(media_source_dir_name)\n",
    "        media_source_dir.mkdir(exist_ok=True)\n",
    "        # Determin audio, transcript, summary and highlights path\n",
    "        return {AUDIO_FILE_NAME.split('.')[0]: media_source_dir.joinpath(AUDIO_FILE_NAME),\n",
    "                TRANSCRIPT_FILE_NAME.split('.')[0]: media_source_dir.joinpath(TRANSCRIPT_FILE_NAME),\n",
    "                SUMMARY_FILE_NAME.split('.')[0]: media_source_dir.joinpath(SUMMARY_FILE_NAME)}\n",
    "\n",
    "    def fetch_metadata(self) -> dict:\n",
    "        \"\"\" Fetches metadata from the source. For example title, author, etc \"\"\"\n",
    "        return (self._fetch_store_paths(),\n",
    "                {**self._fetch_podcast_metadata(),\n",
    "                 **self._fetch_episode_metadata()})\n"
   ]
  },
  {
   "cell_type": "markdown",
   "metadata": {},
   "source": [
    "### Youtube Metadata Manager"
   ]
  },
  {
   "cell_type": "code",
   "execution_count": 220,
   "metadata": {},
   "outputs": [],
   "source": [
    "from pytube import YouTube\n",
    "\n",
    "class YouTubeVideoMetadataManager(BaseMetadataManager):\n",
    "    \"\"\" Youtube video metadata manager \"\"\" \n",
    "    def __init__(self, feed : YouTube) -> None:\n",
    "        \"\"\" Initialises YouTubeVideoMetadataManager \"\"\"\n",
    "        self.feed = feed\n",
    "\n",
    "    def _fetch_store_paths(self) -> dict:\n",
    "        \"\"\" Fetches store paths for podcast metadata \"\"\"\n",
    "        CONTENT_DIRECTORY = Path(CONTENT_DIRECTORY_NAME)\n",
    "        CONTENT_DIRECTORY.mkdir(exist_ok=True)\n",
    "        # Setup channel directory\n",
    "        channel_dir_name = utils.to_filename(self.feed.author)\n",
    "        channel_dir = CONTENT_DIRECTORY.joinpath(channel_dir_name)\n",
    "        channel_dir.mkdir(exist_ok=True)\n",
    "        # Setup channel directory\n",
    "        media_source_dir_name = utils.to_filename(self.feed.title)\n",
    "        media_source_dir = channel_dir.joinpath(media_source_dir_name)\n",
    "        media_source_dir.mkdir(exist_ok=True)\n",
    "        # Determin audio, transcript, summary and highlights path\n",
    "        return {AUDIO_FILE_NAME.split('.')[0]: media_source_dir.joinpath(AUDIO_FILE_NAME),\n",
    "                TRANSCRIPT_FILE_NAME.split('.')[0]: media_source_dir.joinpath(TRANSCRIPT_FILE_NAME),\n",
    "                SUMMARY_FILE_NAME.split('.')[0]: media_source_dir.joinpath(SUMMARY_FILE_NAME)}\n",
    "\n",
    "    def fetch_metadata(self) -> dict:\n",
    "        \"\"\" Fetches metadata from the source. For example title, author, etc \"\"\"\n",
    "        return (self._fetch_store_paths(),\n",
    "                {CHANNEL_NAME: self.feed.author,\n",
    "                    IMAGE_URL: self.feed.thumbnail_url,\n",
    "                    CREATORS: [self.feed.author],\n",
    "                    TITLE: self.feed.title,\n",
    "                    AUDIO_URL: self.feed.streams.filter(only_audio=True).order_by('abr').desc().first().url})\n",
    "        "
   ]
  },
  {
   "cell_type": "markdown",
   "metadata": {},
   "source": [
    "# Media Sources"
   ]
  },
  {
   "cell_type": "markdown",
   "metadata": {},
   "source": [
    "#### Imports"
   ]
  },
  {
   "cell_type": "code",
   "execution_count": 221,
   "metadata": {},
   "outputs": [],
   "source": [
    "from abc import ABC, abstractmethod\n",
    "\n",
    "import pytube\n",
    "import feedparser\n",
    "import json\n",
    "\n",
    "from fuzzywuzzy import fuzz"
   ]
  },
  {
   "cell_type": "markdown",
   "metadata": {},
   "source": [
    "### Base Media Source"
   ]
  },
  {
   "cell_type": "code",
   "execution_count": 222,
   "metadata": {},
   "outputs": [],
   "source": [
    "from  pathlib import Path\n",
    "import utils\n",
    "\n",
    "class MediaSource(ABC):\n",
    "    \"\"\" Base class for media sources \"\"\"\n",
    "    @abstractmethod\n",
    "    def fetch_metadata(self):\n",
    "        \"\"\" Fetches metadata from the source. For example title, author, etc \"\"\"\n",
    "        pass\n",
    "\n",
    "    @abstractmethod\n",
    "    def fetch_audio_paths_urls(self):\n",
    "        \"\"\" Fetches media from the source \"\"\"\n",
    "        pass\n"
   ]
  },
  {
   "cell_type": "markdown",
   "metadata": {},
   "source": [
    "### Podcast from RSS Source"
   ]
  },
  {
   "cell_type": "code",
   "execution_count": 223,
   "metadata": {},
   "outputs": [],
   "source": [
    "class RSSPodcast(MediaSource):\n",
    "    \n",
    "    def __init__(self, url : str, episode_title: str = None) -> None:\n",
    "        self.url = url\n",
    "        self._feed = feedparser.parse(self.url)\n",
    "        self.channel_name, self.title = self._feed.feed.title, None\n",
    "        self._episode = None\n",
    "        if episode_title:\n",
    "            self._episode = self.find_entry_from_title(episode_title)\n",
    "            self.fetch_metadata()\n",
    "\n",
    "    def list_episodes(self):\n",
    "        for entry in self._feed.entries:\n",
    "            print(\"Title:\", entry.title)\n",
    "\n",
    "    def find_entry_from_title(self, title : str, similarity_threshold: float = 80) -> json:\n",
    "        \"\"\" \n",
    "        Returns the entry with the highest similarity score\n",
    "        over the similarity threshold.\n",
    "        \"\"\"\n",
    "        title_list = [entry.title for entry in self._feed.entries]\n",
    "        similarity_scores = []\n",
    "        for t in title_list:\n",
    "            similarity_scores.append(fuzz.ratio(title, t))\n",
    "        max_score = max(similarity_scores)\n",
    "        max_index = similarity_scores.index(max_score)\n",
    "        return self._feed.entries[max_index]\n",
    "\n",
    "    def fetch_metadata(self):\n",
    "        \"\"\" Fetches podcast metadata from RSS feed \"\"\"\n",
    "        if self._episode is None:\n",
    "            raise ValueError(\"No episode selected\")\n",
    "        self.store_paths, metadata = PodcastMetadataManager(self._feed.feed, self._episode).fetch_metadata()\n",
    "        for key, value in metadata.items():\n",
    "            setattr(self, key, value)\n",
    "\n",
    "    def fetch_audio_paths_urls(self):\n",
    "        \"\"\" Returns the download url for the episode \"\"\"\n",
    "        return {self.store_paths[\"audio\"]: getattr(self, AUDIO_URL)}\n",
    "\n",
    "    def __repr__(self):\n",
    "        \"\"\" Representation of Podcast Object \"\"\"\n",
    "        return f\"\"\"Podcast[Podcast = {self.channel_name}, Episode = {self.title}]\"\"\""
   ]
  },
  {
   "cell_type": "markdown",
   "metadata": {},
   "source": [
    "### YouTube Video Source"
   ]
  },
  {
   "cell_type": "code",
   "execution_count": 224,
   "metadata": {},
   "outputs": [],
   "source": [
    "class YouTubeVideo(MediaSource):\n",
    "    \"\"\" YouTube video source class \"\"\"\n",
    "    def __init__(self, url : str) -> None:\n",
    "        self.url = url\n",
    "        self._feed = pytube.YouTube(self.url)\n",
    "        self.fetch_metadata()\n",
    "\n",
    "    def fetch_metadata(self) -> None:\n",
    "        \"\"\" Fetches YouTube video metadata \"\"\"\n",
    "        self.store_paths, metadata = YouTubeVideoMetadataManager(self._feed).fetch_metadata()\n",
    "        for key, value in metadata.items():\n",
    "            setattr(self, key, value)\n",
    "    \n",
    "    def fetch_audio_paths_urls(self):\n",
    "        \"\"\" Returns the download url for the episode \"\"\"\n",
    "        return {self.store_paths[\"audio\"]: getattr(self, AUDIO_URL)}\n",
    "\n",
    "    def __repr__(self):\n",
    "        \"\"\" Representation of YouTubeVideo Object \"\"\"\n",
    "        return f\"\"\"YouTubeVideo[Channel = {self.channel_name}, Title = {self.title}]\"\"\""
   ]
  },
  {
   "cell_type": "markdown",
   "metadata": {},
   "source": [
    "### YouTube Playlist Source"
   ]
  },
  {
   "cell_type": "code",
   "execution_count": 234,
   "metadata": {},
   "outputs": [],
   "source": [
    "class YouTubePlaylist(MediaSource):\n",
    "    \"\"\" YouTube playlist source class \"\"\"\n",
    "    def __init__(self, url : str) -> None:\n",
    "        self.url = url\n",
    "        self._feed = pytube.Playlist(self.url)\n",
    "        self.title = self._feed.title\n",
    "        self.fetch_metadata()\n",
    "\n",
    "    def fetch_metadata(self) -> None:\n",
    "        \"\"\" Fetches YouTube playlist metadata \"\"\"\n",
    "        self.youtube_videos = [YouTubeVideo(video_url) for video_url in self._feed.video_urls]\n",
    "\n",
    "    def fetch_audio_paths_urls(self):\n",
    "        \"\"\" Returns the download url for the episode \"\"\"\n",
    "        audio_paths_urls = {}\n",
    "        for video in self.youtube_videos:\n",
    "            audio_paths_urls.update(video.fetch_audio_paths_urls())\n",
    "\n",
    "    def __repr__(self):\n",
    "        \"\"\" Representation of YouTubePlaylist Object \"\"\"\n",
    "        return f\"\"\"YouTubePlaylist[Playlist = {self.title}]\"\"\"\n",
    "\n"
   ]
  },
  {
   "cell_type": "markdown",
   "metadata": {},
   "source": [
    "### Source Factory"
   ]
  },
  {
   "cell_type": "code",
   "execution_count": 226,
   "metadata": {},
   "outputs": [],
   "source": [
    "class SourceFactory:\n",
    "    @staticmethod\n",
    "    def create_source(source_type: str, url: str, episode_title: str = None) -> MediaSource:\n",
    "        if source_type == \"rss\":\n",
    "            return RSSPodcast(url, episode_title)\n",
    "        elif source_type == \"youtube\":\n",
    "            return YouTubeVideo(url)"
   ]
  },
  {
   "cell_type": "markdown",
   "metadata": {},
   "source": [
    "### Tests"
   ]
  },
  {
   "cell_type": "code",
   "execution_count": 227,
   "metadata": {},
   "outputs": [
    {
     "name": "stdout",
     "output_type": "stream",
     "text": [
      "url: https://lexfridman.com/feed/podcast/\n",
      "channel_name: Lex Fridman Podcast\n",
      "title: #401 – John Mearsheimer: Israel-Palestine, Russia-Ukraine, China, NATO, and WW3\n",
      "store_paths: {'audio': PosixPath('content/lex_fridman_podcast/401_john_mearsheimer_israel_palestine_russia_ukraine_china_nato_and_ww3/audio.mp3'), 'transcript': PosixPath('content/lex_fridman_podcast/401_john_mearsheimer_israel_palestine_russia_ukraine_china_nato_and_ww3/transcript.json'), 'summary': PosixPath('content/lex_fridman_podcast/401_john_mearsheimer_israel_palestine_russia_ukraine_china_nato_and_ww3/summary.txt')}\n",
      "image_url: https://lexfridman.com/wordpress/wp-content/uploads/powerpress/artwork_3000-230.png\n",
      "creators: ['Lex Fridman']\n",
      "audio_url: https://media.blubrry.com/takeituneasy/content.blubrry.com/takeituneasy/lex_ai_john_mearsheimer.mp3\n",
      "Podcast[Podcast = Lex Fridman Podcast, Episode = #401 – John Mearsheimer: Israel-Palestine, Russia-Ukraine, China, NATO, and WW3]\n"
     ]
    }
   ],
   "source": [
    "rss = SourceFactory.create_source('rss', 'https://lexfridman.com/feed/podcast/', 'John Mearsheimer: Israel-Palestine, Russia-Ukraine, China, NATO, and WW3')\n",
    "rss.fetch_metadata()\n",
    "\n",
    "for key, value in rss.__dict__.items():\n",
    "    if not key.startswith('_'):\n",
    "        print(f\"{key}:\", value)\n",
    "\n",
    "print(rss)"
   ]
  },
  {
   "cell_type": "code",
   "execution_count": 241,
   "metadata": {},
   "outputs": [
    {
     "name": "stdout",
     "output_type": "stream",
     "text": [
      "url: https://www.youtube.com/watch?v=CvQ7e6yUtnw\n",
      "store_paths: {'audio': PosixPath('content/arjancodes/this_is_why_python_data_classes_are_awesome/audio.mp3'), 'transcript': PosixPath('content/arjancodes/this_is_why_python_data_classes_are_awesome/transcript.json'), 'summary': PosixPath('content/arjancodes/this_is_why_python_data_classes_are_awesome/summary.txt')}\n",
      "channel_name: ArjanCodes\n",
      "image_url: https://i.ytimg.com/vi/CvQ7e6yUtnw/hq720.jpg\n",
      "creators: ['ArjanCodes']\n",
      "title: This Is Why Python Data Classes Are Awesome\n",
      "audio_url: https://rr2---sn-uhvcpaxoa-5hne.googlevideo.com/videoplayback?expire=1700761032&ei=aDlfZbrIOcyp1gLQt7ToAQ&ip=94.157.1.0&id=o-AF0H1HSkOYZl3mKa_rdqfbuSwkVOcdy52c10bNH9w6J1&itag=251&source=youtube&requiressl=yes&mh=Gm&mm=31%2C29&mn=sn-uhvcpaxoa-5hne%2Csn-5hne6nzk&ms=au%2Crdu&mv=m&mvi=2&pl=23&initcwndbps=2317500&vprv=1&mime=audio%2Fwebm&gir=yes&clen=18946649&dur=1338.941&lmt=1651195320148263&mt=1700738960&fvip=5&keepalive=yes&fexp=24007246&c=ANDROID_EMBEDDED_PLAYER&txp=4432434&sparams=expire%2Cei%2Cip%2Cid%2Citag%2Csource%2Crequiressl%2Cvprv%2Cmime%2Cgir%2Cclen%2Cdur%2Clmt&sig=ANLwegAwRQIgVw3nschT7DxFLKHWIoPUkeRJi_7b7pVZFl5xy1dS7HQCIQCoO_rw8BOul3sFItnJtG9lLLh0kuyf3UVrCEjT1svjSQ%3D%3D&lsparams=mh%2Cmm%2Cmn%2Cms%2Cmv%2Cmvi%2Cpl%2Cinitcwndbps&lsig=AM8Gb2swRQIhAKRSLbGEzyrz-KrKB7WdQ9UY34JEoMgFJKniGuFYg0OWAiAZNSmeuNvZ-wv-35NvbQMBY9fd2lZ30ft44tqOibmUBg%3D%3D\n",
      "YouTubeVideo[Channel = ArjanCodes, Title = This Is Why Python Data Classes Are Awesome]\n"
     ]
    }
   ],
   "source": [
    "ytv = SourceFactory.create_source('youtube', 'https://www.youtube.com/watch?v=CvQ7e6yUtnw')\n",
    "for key, value in ytv.__dict__.items():\n",
    "    if not key.startswith('_'):\n",
    "        print(f\"{key}:\", value)\n",
    "print(ytv)"
   ]
  },
  {
   "cell_type": "code",
   "execution_count": 240,
   "metadata": {},
   "outputs": [
    {
     "name": "stdout",
     "output_type": "stream",
     "text": [
      "url: https://www.youtube.com/playlist?list=PLrAXtmErZgOeiKm4sgNOknGvNjby9efdf\n",
      "title: Select Lectures\n",
      "youtube_videos: [YouTubeVideo[Channel = Lex Fridman, Title = Deep Learning State of the Art (2020)], YouTubeVideo[Channel = Lex Fridman, Title = Deep Learning Basics: Introduction and Overview]]\n",
      "YouTubePlaylist[Playlist = Select Lectures]\n"
     ]
    }
   ],
   "source": [
    "ytp = YouTubePlaylist('https://www.youtube.com/playlist?list=PLrAXtmErZgOeiKm4sgNOknGvNjby9efdf')\n",
    "for key, value in ytp.__dict__.items():\n",
    "    if not key.startswith('_'):\n",
    "        print(f\"{key}:\", value)\n",
    "print(ytp)"
   ]
  },
  {
   "cell_type": "markdown",
   "metadata": {},
   "source": [
    "# Audio Downloader"
   ]
  },
  {
   "cell_type": "code",
   "execution_count": 230,
   "metadata": {},
   "outputs": [],
   "source": [
    "import requests\n",
    "\n",
    "class AudioDownloader:\n",
    "    \"\"\" Audio downloader class \"\"\"\n",
    "    \n",
    "    @staticmethod\n",
    "    def download_audio_from_url(audio_url, audio_path):\n",
    "        \"\"\"\n",
    "        downloads audio content from a given URL in chunks and saves it to a specified local file path.\n",
    "        It properly handles HTTP response status checks and resource management using context managers.\n",
    "        The use of chunked downloading is particularly useful for handling large files without consuming\n",
    "        excessive memory.\n",
    "        \"\"\"\n",
    "        with requests.get(audio_url, stream=True) as response:\n",
    "            # This line checks if the HTTP request was successful.\n",
    "            # If the status code of the response is not in the 200-299 range (indicating success),\n",
    "            # this line will raise an exception, indicating that there was an error in fetching the content.\n",
    "            response.raise_for_status()\n",
    "            with open(audio_path, 'wb') as f:   # Writes a file in binary mode\n",
    "                # It iterates the response and writes the file in chunks of 8KB\n",
    "                # It's a good practice when handling big files\n",
    "                for chunk in response.iter_content(chunk_size=8192):\n",
    "                    f.write(chunk)\n",
    "\n",
    "    @staticmethod\n",
    "    def download_from_media_source(source: MediaSource):\n",
    "        \"\"\" Returns an audio downloader object from a media source \"\"\"\n",
    "        for audio_path, audio_url in source.fetch_audio_paths_urls().items():\n",
    "            AudioDownloader.download_audio_from_url(audio_url, audio_path)"
   ]
  },
  {
   "cell_type": "code",
   "execution_count": 231,
   "metadata": {},
   "outputs": [],
   "source": [
    "AudioDownloader.download_from_media_source(rss)"
   ]
  },
  {
   "cell_type": "code",
   "execution_count": null,
   "metadata": {},
   "outputs": [],
   "source": []
  }
 ],
 "metadata": {
  "kernelspec": {
   "display_name": "PodSummer",
   "language": "python",
   "name": "python3"
  },
  "language_info": {
   "codemirror_mode": {
    "name": "ipython",
    "version": 3
   },
   "file_extension": ".py",
   "mimetype": "text/x-python",
   "name": "python",
   "nbconvert_exporter": "python",
   "pygments_lexer": "ipython3",
   "version": "3.10.12"
  }
 },
 "nbformat": 4,
 "nbformat_minor": 2
}
